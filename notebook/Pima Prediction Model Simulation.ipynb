{
 "cells": [
  {
   "cell_type": "markdown",
   "id": "23056b01",
   "metadata": {},
   "source": [
    "Import Necessary Libraries"
   ]
  },
  {
   "cell_type": "code",
   "execution_count": 6,
   "id": "298086a1",
   "metadata": {},
   "outputs": [],
   "source": [
    "import pandas as pd\n",
    "import numpy as np\n",
    "import seaborn as sns\n",
    "import matplotlib.pyplot as plt\n",
    "\n",
    "from sklearn.linear_model import LogisticRegression\n",
    "import joblib"
   ]
  },
  {
   "cell_type": "markdown",
   "id": "71a9daee",
   "metadata": {},
   "source": [
    "Read content of diabetes.csv into a dataframe"
   ]
  },
  {
   "cell_type": "code",
   "execution_count": 9,
   "id": "ee82c4bb",
   "metadata": {},
   "outputs": [
    {
     "name": "stdout",
     "output_type": "stream",
     "text": [
      "   Pregnancies  Glucose  BloodPressure  SkinThickness  Insulin   BMI  \\\n",
      "0            6      148             72             35        0  33.6   \n",
      "1            1       85             66             29        0  26.6   \n",
      "2            8      183             64              0        0  23.3   \n",
      "3            1       89             66             23       94  28.1   \n",
      "4            0      137             40             35      168  43.1   \n",
      "\n",
      "   DiabetesPedigreeFunction  Age  Outcome  \n",
      "0                     0.627   50        1  \n",
      "1                     0.351   31        0  \n",
      "2                     0.672   32        1  \n",
      "3                     0.167   21        0  \n",
      "4                     2.288   33        1  \n"
     ]
    }
   ],
   "source": [
    "diabetesDF = pd.read_csv('../diabetes.csv')\n",
    "print(diabetesDF.head())"
   ]
  },
  {
   "cell_type": "markdown",
   "id": "fe2ff1a5",
   "metadata": {},
   "source": [
    "Trace patterns in the data (any redundancy or noise etc)"
   ]
  },
  {
   "cell_type": "code",
   "execution_count": 10,
   "id": "ef55dd10",
   "metadata": {},
   "outputs": [
    {
     "name": "stdout",
     "output_type": "stream",
     "text": [
      "                          Pregnancies   Glucose  BloodPressure  SkinThickness  \\\n",
      "Pregnancies                  1.000000  0.129459       0.141282      -0.081672   \n",
      "Glucose                      0.129459  1.000000       0.152590       0.057328   \n",
      "BloodPressure                0.141282  0.152590       1.000000       0.207371   \n",
      "SkinThickness               -0.081672  0.057328       0.207371       1.000000   \n",
      "Insulin                     -0.073535  0.331357       0.088933       0.436783   \n",
      "BMI                          0.017683  0.221071       0.281805       0.392573   \n",
      "DiabetesPedigreeFunction    -0.033523  0.137337       0.041265       0.183928   \n",
      "Age                          0.544341  0.263514       0.239528      -0.113970   \n",
      "Outcome                      0.221898  0.466581       0.065068       0.074752   \n",
      "\n",
      "                           Insulin       BMI  DiabetesPedigreeFunction  \\\n",
      "Pregnancies              -0.073535  0.017683                 -0.033523   \n",
      "Glucose                   0.331357  0.221071                  0.137337   \n",
      "BloodPressure             0.088933  0.281805                  0.041265   \n",
      "SkinThickness             0.436783  0.392573                  0.183928   \n",
      "Insulin                   1.000000  0.197859                  0.185071   \n",
      "BMI                       0.197859  1.000000                  0.140647   \n",
      "DiabetesPedigreeFunction  0.185071  0.140647                  1.000000   \n",
      "Age                      -0.042163  0.036242                  0.033561   \n",
      "Outcome                   0.130548  0.292695                  0.173844   \n",
      "\n",
      "                               Age   Outcome  \n",
      "Pregnancies               0.544341  0.221898  \n",
      "Glucose                   0.263514  0.466581  \n",
      "BloodPressure             0.239528  0.065068  \n",
      "SkinThickness            -0.113970  0.074752  \n",
      "Insulin                  -0.042163  0.130548  \n",
      "BMI                       0.036242  0.292695  \n",
      "DiabetesPedigreeFunction  0.033561  0.173844  \n",
      "Age                       1.000000  0.238356  \n",
      "Outcome                   0.238356  1.000000  \n"
     ]
    },
    {
     "data": {
      "text/plain": [
       "<AxesSubplot:>"
      ]
     },
     "execution_count": 10,
     "metadata": {},
     "output_type": "execute_result"
    },
    {
     "data": {
      "image/png": "[encoded data removed]",
      "text/plain": [
       "<Figure size 432x288 with 2 Axes>"
      ]
     },
     "metadata": {
      "needs_background": "light"
     },
     "output_type": "display_data"
    }
   ],
   "source": [
    "corr = diabetesDF.corr()\n",
    "print(corr)\n",
    "sns.heatmap(corr, \n",
    "         xticklabels=corr.columns, \n",
    "         yticklabels=corr.columns)"
   ]
  },
  {
   "cell_type": "markdown",
   "id": "36cd8604",
   "metadata": {},
   "source": [
    "Split the Dataset (767 records) into 3 sets: One for training, one for testing and another for cross checking"
   ]
  },
  {
   "cell_type": "code",
   "execution_count": 11,
   "id": "26c60f8b",
   "metadata": {},
   "outputs": [],
   "source": [
    "dfTrain = diabetesDF[:650]\n",
    "dfTest = diabetesDF[650:750]\n",
    "dfCheck = diabetesDF[750:]"
   ]
  },
  {
   "cell_type": "markdown",
   "id": "758aaa53",
   "metadata": {},
   "source": [
    "Separate the Label (inputs) and feature (output). We also convert to numerical since all machine learning algorithms take numeric. SKLearn specificlaly takes numpy arrays"
   ]
  },
  {
   "cell_type": "code",
   "execution_count": 13,
   "id": "9a324a65",
   "metadata": {},
   "outputs": [
    {
     "name": "stderr",
     "output_type": "stream",
     "text": [
      "C:\\Users\\ngjos\\AppData\\Local\\Temp/ipykernel_16536/947867503.py:2: FutureWarning: In a future version of pandas all arguments of DataFrame.drop except for the argument 'labels' will be keyword-only\n",
      "  trainData = np.asarray(dfTrain.drop('Outcome',1))\n",
      "C:\\Users\\ngjos\\AppData\\Local\\Temp/ipykernel_16536/947867503.py:4: FutureWarning: In a future version of pandas all arguments of DataFrame.drop except for the argument 'labels' will be keyword-only\n",
      "  testData = np.asarray(dfTest.drop('Outcome',1))\n"
     ]
    }
   ],
   "source": [
    "trainLabel = np.asarray(dfTrain['Outcome'])\n",
    "trainData = np.asarray(dfTrain.drop('Outcome',1))\n",
    "testLabel = np.asarray(dfTest['Outcome'])\n",
    "testData = np.asarray(dfTest.drop('Outcome',1))"
   ]
  },
  {
   "cell_type": "markdown",
   "id": "a9a879cc",
   "metadata": {},
   "source": [
    "Normalize the data to improve out analysis of the data"
   ]
  },
  {
   "cell_type": "code",
   "execution_count": 14,
   "id": "02207b6e",
   "metadata": {},
   "outputs": [],
   "source": [
    "means = np.mean(trainData, axis=0)\n",
    "stds = np.std(trainData, axis=0)\n",
    "trainData = (trainData - means)/stds\n",
    "testData = (testData - means)/stds"
   ]
  },
  {
   "cell_type": "markdown",
   "id": "54a4943d",
   "metadata": {},
   "source": [
    "Feed the training data into our algorithm (Logistic Regression) to form model"
   ]
  },
  {
   "cell_type": "code",
   "execution_count": 15,
   "id": "2c8826f4",
   "metadata": {},
   "outputs": [
    {
     "data": {
      "text/plain": [
       "LogisticRegression()"
      ]
     },
     "execution_count": 15,
     "metadata": {},
     "output_type": "execute_result"
    }
   ],
   "source": [
    "diabetesCheck = LogisticRegression()\n",
    "diabetesCheck.fit(trainData, trainLabel)"
   ]
  },
  {
   "cell_type": "code",
   "execution_count": 16,
   "id": "e057df75",
   "metadata": {},
   "outputs": [
    {
     "name": "stdout",
     "output_type": "stream",
     "text": [
      "accuracy =  78.0 %\n"
     ]
    }
   ],
   "source": [
    "accuracy = diabetesCheck.score(testData, testLabel)\n",
    "print(\"accuracy = \", accuracy * 100, \"%\")"
   ]
  },
  {
   "cell_type": "markdown",
   "id": "3c3814cf",
   "metadata": {},
   "source": [
    "We can see 78% accuracy"
   ]
  },
  {
   "cell_type": "markdown",
   "id": "67b8f124",
   "metadata": {},
   "source": [
    "Save the model"
   ]
  },
  {
   "cell_type": "code",
   "execution_count": 18,
   "id": "075e6d88",
   "metadata": {},
   "outputs": [
    {
     "data": {
      "text/plain": [
       "['diabeteseModel.pkl']"
      ]
     },
     "execution_count": 18,
     "metadata": {},
     "output_type": "execute_result"
    }
   ],
   "source": [
    "joblib.dump([diabetesCheck, means, stds], 'diabeteseModel.pkl')"
   ]
  },
  {
   "cell_type": "markdown",
   "id": "9798a04b",
   "metadata": {},
   "source": [
    "Test the saved model"
   ]
  },
  {
   "cell_type": "code",
   "execution_count": 20,
   "id": "e4abdd76",
   "metadata": {},
   "outputs": [
    {
     "name": "stdout",
     "output_type": "stream",
     "text": [
      "accuracy =  78.0 %\n"
     ]
    }
   ],
   "source": [
    "diabetesLoadedModel, means, stds = joblib.load('diabeteseModel.pkl')\n",
    "accuracyModel = diabetesLoadedModel.score(testData, testLabel)\n",
    "print(\"accuracy = \",accuracyModel * 100,\"%\")"
   ]
  },
  {
   "cell_type": "markdown",
   "id": "c7042830",
   "metadata": {},
   "source": [
    "Use the last batch of segregated data to final test the model. Test only the first record"
   ]
  },
  {
   "cell_type": "code",
   "execution_count": 21,
   "id": "9c65f6aa",
   "metadata": {},
   "outputs": [
    {
     "name": "stdout",
     "output_type": "stream",
     "text": [
      "Probability: [[0.44077634 0.55922366]]\n",
      "prediction: [1]\n"
     ]
    },
    {
     "name": "stderr",
     "output_type": "stream",
     "text": [
      "C:\\Users\\ngjos\\AppData\\Local\\Temp/ipykernel_16536/88900037.py:3: FutureWarning: In a future version of pandas all arguments of DataFrame.drop except for the argument 'labels' will be keyword-only\n",
      "  sampleDataFeatures = np.asarray(sampleData.drop('Outcome',1))\n"
     ]
    }
   ],
   "source": [
    "sampleData = dfCheck[:1]\n",
    "# prepare sample\n",
    "sampleDataFeatures = np.asarray(sampleData.drop('Outcome',1))\n",
    "sampleDataFeatures = (sampleDataFeatures - means)/stds\n",
    "# predict\n",
    "predictionProbability = diabetesLoadedModel.predict_proba(sampleDataFeatures)\n",
    "prediction = diabetesLoadedModel.predict(sampleDataFeatures)\n",
    "print('Probability:', predictionProbability)\n",
    "print('prediction:', prediction)"
   ]
  },
  {
   "cell_type": "markdown",
   "id": "fd9ee48e",
   "metadata": {},
   "source": [
    "Here means there's 44% chance that a person has diabetes and 55.9% chance that they don't"
   ]
  },
  {
   "cell_type": "code",
   "execution_count": 25,
   "id": "5a8073cf",
   "metadata": {},
   "outputs": [
    {
     "data": {
      "text/plain": [
       "162"
      ]
     },
     "execution_count": 25,
     "metadata": {},
     "output_type": "execute_result"
    }
   ],
   "source": []
  },
  {
   "cell_type": "code",
   "execution_count": null,
   "id": "2ee012f0",
   "metadata": {},
   "outputs": [],
   "source": []
  }
 ],
 "metadata": {
  "kernelspec": {
   "display_name": "Python 3 (ipykernel)",
   "language": "python",
   "name": "python3"
  },
  "language_info": {
   "codemirror_mode": {
    "name": "ipython",
    "version": 3
   },
   "file_extension": ".py",
   "mimetype": "text/x-python",
   "name": "python",
   "nbconvert_exporter": "python",
   "pygments_lexer": "ipython3",
   "version": "3.9.6"
  }
 },
 "nbformat": 4,
 "nbformat_minor": 5
}
